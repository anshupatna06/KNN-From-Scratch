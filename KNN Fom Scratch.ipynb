{
 "cells": [
  {
   "cell_type": "markdown",
   "id": "2bbf10f2-6373-4623-8a58-9dd83165d324",
   "metadata": {},
   "source": [
    "# KNN(K Nearest Neighbour):-\n",
    "#K-Nearest Neighbors (KNN) is a supervised machine learning algorithm generally used for classification but can also be used for regression tasks. It works by finding the \"k\" closest data points (neighbors) to a given input and makes a predictions based on the majority class (for classification) or the average value (for regression). Since KNN makes no assumptions about the underlying data distribution it makes it a non-parametric and instance-based learning method.\n",
    "\n",
    "K-Nearest Neighbors is also called as a lazy learner algorithm because it does not learn from the training set immediately instead it stores the entire dataset and performs computations only at the time of classification.\n",
    "K:-k is just a number that tells the algorithm how many nearby points or neighbors to look at when it makes a decision."
   ]
  },
  {
   "cell_type": "markdown",
   "id": "c76b26c7-eff0-4089-a967-101938285d0c",
   "metadata": {},
   "source": [
    "# 📚 References\n",
    "\n",
    "1. KNN Algorithm – Wikipedia\n",
    "https://en.wikipedia.org/wiki/K-nearest_neighbors_algorithm\n",
    "\n",
    "\n",
    "2. Scikit-learn: KNN Classifier Documentation\n",
    "https://scikit-learn.org/stable/modules/neighbors.html\n",
    "\n",
    "\n",
    "3. PIMA Indians Diabetes Dataset (UCI Repository)\n",
    "https://archive.ics.uci.edu/ml/datasets/Pima+Indians+Diabetes"
   ]
  },
  {
   "cell_type": "code",
   "execution_count": 1,
   "id": "9426d529-29c9-46ff-92df-d7c0a21e8c21",
   "metadata": {},
   "outputs": [],
   "source": [
    "# First import the important libraries"
   ]
  },
  {
   "cell_type": "code",
   "execution_count": 2,
   "id": "26d9b366-aeb5-40e5-8e1d-3cd6960c2a18",
   "metadata": {},
   "outputs": [],
   "source": [
    "import numpy as np\n",
    "import pandas as pd\n",
    "from collections import Counter\n",
    "from sklearn.model_selection import train_test_split\n",
    "from sklearn.preprocessing import StandardScaler"
   ]
  },
  {
   "cell_type": "code",
   "execution_count": 3,
   "id": "924091c6-c3b9-4320-8a79-f953c9413891",
   "metadata": {},
   "outputs": [],
   "source": [
    "# Load dataset\n",
    "url = \"https://raw.githubusercontent.com/jbrownlee/Datasets/master/pima-indians-diabetes.data.csv\"\n",
    "columns = [\"Pregnancies\", \"Glucose\", \"BloodPressure\", \"SkinThickness\", \"Insulin\",\n",
    "           \"BMI\", \"DiabetesPedigreeFunction\", \"Age\", \"Outcome\"]\n",
    "\n",
    "data = pd.read_csv(url, names=columns)\n"
   ]
  },
  {
   "cell_type": "code",
   "execution_count": 4,
   "id": "f715ba9f-9089-4878-ac0c-ea376a21b310",
   "metadata": {},
   "outputs": [
    {
     "data": {
      "text/html": [
       "<div>\n",
       "<style scoped>\n",
       "    .dataframe tbody tr th:only-of-type {\n",
       "        vertical-align: middle;\n",
       "    }\n",
       "\n",
       "    .dataframe tbody tr th {\n",
       "        vertical-align: top;\n",
       "    }\n",
       "\n",
       "    .dataframe thead th {\n",
       "        text-align: right;\n",
       "    }\n",
       "</style>\n",
       "<table border=\"1\" class=\"dataframe\">\n",
       "  <thead>\n",
       "    <tr style=\"text-align: right;\">\n",
       "      <th></th>\n",
       "      <th>Pregnancies</th>\n",
       "      <th>Glucose</th>\n",
       "      <th>BloodPressure</th>\n",
       "      <th>SkinThickness</th>\n",
       "      <th>Insulin</th>\n",
       "      <th>BMI</th>\n",
       "      <th>DiabetesPedigreeFunction</th>\n",
       "      <th>Age</th>\n",
       "      <th>Outcome</th>\n",
       "    </tr>\n",
       "  </thead>\n",
       "  <tbody>\n",
       "    <tr>\n",
       "      <th>0</th>\n",
       "      <td>6</td>\n",
       "      <td>148</td>\n",
       "      <td>72</td>\n",
       "      <td>35</td>\n",
       "      <td>0</td>\n",
       "      <td>33.6</td>\n",
       "      <td>0.627</td>\n",
       "      <td>50</td>\n",
       "      <td>1</td>\n",
       "    </tr>\n",
       "    <tr>\n",
       "      <th>1</th>\n",
       "      <td>1</td>\n",
       "      <td>85</td>\n",
       "      <td>66</td>\n",
       "      <td>29</td>\n",
       "      <td>0</td>\n",
       "      <td>26.6</td>\n",
       "      <td>0.351</td>\n",
       "      <td>31</td>\n",
       "      <td>0</td>\n",
       "    </tr>\n",
       "    <tr>\n",
       "      <th>2</th>\n",
       "      <td>8</td>\n",
       "      <td>183</td>\n",
       "      <td>64</td>\n",
       "      <td>0</td>\n",
       "      <td>0</td>\n",
       "      <td>23.3</td>\n",
       "      <td>0.672</td>\n",
       "      <td>32</td>\n",
       "      <td>1</td>\n",
       "    </tr>\n",
       "    <tr>\n",
       "      <th>3</th>\n",
       "      <td>1</td>\n",
       "      <td>89</td>\n",
       "      <td>66</td>\n",
       "      <td>23</td>\n",
       "      <td>94</td>\n",
       "      <td>28.1</td>\n",
       "      <td>0.167</td>\n",
       "      <td>21</td>\n",
       "      <td>0</td>\n",
       "    </tr>\n",
       "    <tr>\n",
       "      <th>4</th>\n",
       "      <td>0</td>\n",
       "      <td>137</td>\n",
       "      <td>40</td>\n",
       "      <td>35</td>\n",
       "      <td>168</td>\n",
       "      <td>43.1</td>\n",
       "      <td>2.288</td>\n",
       "      <td>33</td>\n",
       "      <td>1</td>\n",
       "    </tr>\n",
       "  </tbody>\n",
       "</table>\n",
       "</div>"
      ],
      "text/plain": [
       "   Pregnancies  Glucose  BloodPressure  SkinThickness  Insulin   BMI  \\\n",
       "0            6      148             72             35        0  33.6   \n",
       "1            1       85             66             29        0  26.6   \n",
       "2            8      183             64              0        0  23.3   \n",
       "3            1       89             66             23       94  28.1   \n",
       "4            0      137             40             35      168  43.1   \n",
       "\n",
       "   DiabetesPedigreeFunction  Age  Outcome  \n",
       "0                     0.627   50        1  \n",
       "1                     0.351   31        0  \n",
       "2                     0.672   32        1  \n",
       "3                     0.167   21        0  \n",
       "4                     2.288   33        1  "
      ]
     },
     "execution_count": 4,
     "metadata": {},
     "output_type": "execute_result"
    }
   ],
   "source": [
    "data.head()"
   ]
  },
  {
   "cell_type": "code",
   "execution_count": 5,
   "id": "18888b1c-c5be-4f3a-b0d7-91233fc56560",
   "metadata": {},
   "outputs": [],
   "source": [
    "\n",
    "X = data.drop(\"Outcome\", axis=1).values\n",
    "y = data[\"Outcome\"].values\n",
    "\n",
    "# Train-test split\n",
    "X_train, X_test, y_train, y_test = train_test_split(X, y, test_size=0.2, random_state=42)\n",
    "\n",
    "# Scale features\n",
    "scaler = StandardScaler()\n",
    "X_train = scaler.fit_transform(X_train)\n",
    "X_test = scaler.transform(X_test)"
   ]
  },
  {
   "cell_type": "markdown",
   "id": "865fde38-1472-4f6a-a709-2051c9d53cdf",
   "metadata": {},
   "source": [
    "# Let's first understand some basic concepts and mathematical formulas which is necessary for implementation of KNN from Scratch:-"
   ]
  },
  {
   "cell_type": "markdown",
   "id": "e8d6a527-0bbe-4965-9af6-7b384ff778e5",
   "metadata": {},
   "source": [
    "# 📘 Mathematical Formulas in KNN Model\n",
    "\n",
    "# 🔹 1. Distance Calculation\n",
    "\n",
    "# Euclidean Distance (most common for KNN):\n",
    "\n",
    "\n",
    "#$$d(x, y) = \\sqrt{\\sum_{i=1}^{n} (x_i - y_i)^2}$$\n",
    "\n",
    "\n",
    "#-------------------------------------------------------------------------------------------------------------------------------------\n",
    "\n",
    "# 🔹 2. Prediction Rule\n",
    "\n",
    "#For a test point :\n",
    "\n",
    "#1. Find the  nearest neighbors based on distance.\n",
    "\n",
    "\n",
    "#2. Collect their labels.\n",
    "\n",
    "\n",
    "#3. Predict using majority voting:\n",
    "\n",
    "\n",
    "\n",
    "\n",
    "#$$\\hat{y} = \\text{mode}\\{ y_{i} \\, | \\, i \\in \\text{nearest } k \\}$$\n",
    "\n",
    "\n",
    "#--------------------------------------------------------------------------------------------------------------------------------\n",
    "\n",
    "# 🔹 3. Confusion Matrix Elements\n",
    "\n",
    "#For binary classification (Outcome = 0 or 1):\n",
    "\n",
    "#True Positive (TP): Predicted 1, Actual 1\n",
    "\n",
    "#False Positive (FP): Predicted 1, Actual 0\n",
    "\n",
    "#True Negative (TN): Predicted 0, Actual 0\n",
    "\n",
    "#False Negative (FN): Predicted 0, Actual 1\n",
    "\n",
    "\n",
    "\n",
    "#--------------------------------------------------------------------------------------------------------------------------------\n",
    "\n",
    "# 🔹 4. Accuracy\n",
    "\n",
    "#$$\\text{Accuracy} = \\frac{TP + TN}{TP + TN + FP + FN}$$\n",
    "\n",
    "\n",
    "#--------------------------------------------------------------------------------------------------------------------------------\n",
    "\n",
    "# 🔹 5. Precision\n",
    "\n",
    "#$$\\text{Precision} = \\frac{TP}{TP + FP}$$\n",
    "\n",
    "\n",
    "#--------------------------------------------------------------------------------------------------------------------------------\n",
    "\n",
    "# 🔹 6. Recall (Sensitivity)\n",
    "\n",
    "#$$\\text{Recall} = \\frac{TP}{TP + FN}$$\n",
    "\n",
    "\n",
    "#--------------------------------------------------------------------------------------------------------------------------------\n",
    "\n",
    "# 🔹 7. F1-score\n",
    "\n",
    "# Harmonic mean of Precision and Recall:\n",
    "\n",
    "\n",
    "#$$F1 = 2 \\cdot \\frac{\\text{Precision} \\cdot \\text{Recall}}{\\text{Precision} + \\text{Recall}}$$\n",
    "\n",
    "\n",
    "#--------------------------------------------------------------------------------------------------------------------------------\n",
    "\n",
    "# 🔹 8. Weighted Voting (Optional for Weighted KNN)\n",
    "\n",
    "#If we weight neighbors by inverse distance:\n",
    "\n",
    "\n",
    "#$$w_i = \\frac{1}{d(x, x_i) + \\epsilon}$$\n",
    "\n",
    "#$$\\hat{y} = \\arg\\max_{c} \\sum_{i \\in \\text{nearest } k} w_i \\cdot \\mathbf{1}(y_i = c)$$\n",
    "#-----------------------------------------------------------------------------------------------------------------------------"
   ]
  },
  {
   "cell_type": "markdown",
   "id": "a2fb2230-a82d-4cb8-a225-097f31b56ddc",
   "metadata": {},
   "source": [
    "# Now,using the above concepts ,let's implement the KNNClassifier model:-"
   ]
  },
  {
   "cell_type": "code",
   "execution_count": 6,
   "id": "4112c85a-3133-4a48-85c0-ebaed52984b5",
   "metadata": {},
   "outputs": [],
   "source": [
    "class KNNClassifier:\n",
    "    def __init__(self, k=5):\n",
    "        self.k = k\n",
    "    \n",
    "    def fit(self, X_train, y_train):\n",
    "        # Store training data (lazy learner, no training phase)\n",
    "        self.X_train = X_train\n",
    "        self.y_train = y_train\n",
    "    \n",
    "    def euclidean_distance(self, x1, x2):\n",
    "        return np.sqrt(np.sum((x1 - x2) ** 2))\n",
    "    \n",
    "    def predict_one(self, x):\n",
    "        # Compute distances from x to all training points\n",
    "        distances = [self.euclidean_distance(x, x_train) for x_train in self.X_train]\n",
    "        \n",
    "        # Get indices of k nearest neighbors\n",
    "        k_indices = np.argsort(distances)[:self.k]\n",
    "        \n",
    "        # Get their labels\n",
    "        k_nearest_labels = [self.y_train[i] for i in k_indices]\n",
    "        \n",
    "        # Majority vote\n",
    "        most_common = Counter(k_nearest_labels).most_common(1)\n",
    "        return most_common[0][0]\n",
    "    \n",
    "    def predict(self, X):\n",
    "        return np.array([self.predict_one(x) for x in X])"
   ]
  },
  {
   "cell_type": "code",
   "execution_count": 7,
   "id": "cd9f457f-18d3-461e-83e9-5cda99776163",
   "metadata": {},
   "outputs": [
    {
     "name": "stdout",
     "output_type": "stream",
     "text": [
      "Accuracy: 0.6948051948051948\n"
     ]
    }
   ],
   "source": [
    "# Train model\n",
    "knn = KNNClassifier(k=5)\n",
    "knn.fit(X_train, y_train)\n",
    "\n",
    "# Predictions\n",
    "y_pred = knn.predict(X_test)\n",
    "\n",
    "# Accuracy\n",
    "accuracy = np.mean(y_pred == y_test)\n",
    "print(\"Accuracy:\", accuracy)"
   ]
  },
  {
   "cell_type": "code",
   "execution_count": 8,
   "id": "9f1f11f3-413d-4820-89dd-a83b75c6150c",
   "metadata": {},
   "outputs": [],
   "source": [
    "import matplotlib.pyplot as plt\n",
    "import seaborn as sns\n",
    "\n",
    "# Confusion matrix function\n",
    "def confusion_matrix(y_true, y_pred):\n",
    "    classes = np.unique(y_true)\n",
    "    matrix = np.zeros((len(classes), len(classes)), dtype=int)\n",
    "\n",
    "    for i, true in enumerate(classes):\n",
    "        for j, pred in enumerate(classes):\n",
    "            matrix[i, j] = np.sum((y_true == true) & (y_pred == pred))\n",
    "\n",
    "    return matrix"
   ]
  },
  {
   "cell_type": "code",
   "execution_count": 9,
   "id": "de8aebc8-9da7-4e7c-a072-c1389dc1fcaa",
   "metadata": {},
   "outputs": [],
   "source": [
    "def classification_report(y_true, y_pred):\n",
    "    cm = confusion_matrix(y_true, y_pred)\n",
    "    tp = np.diag(cm)  # true positives\n",
    "    fp = cm.sum(axis=0) - tp\n",
    "    fn = cm.sum(axis=1) - tp\n",
    "    tn = cm.sum() - (tp + fp + fn)\n",
    "\n",
    "    precision = tp / (tp + fp + 1e-8)\n",
    "    recall = tp / (tp + fn + 1e-8)\n",
    "    f1 = 2 * (precision * recall) / (precision + recall + 1e-8)\n",
    "\n",
    "    for i in range(len(tp)):\n",
    "        print(f\"Class {i}:\")\n",
    "        print(f\"  Precision: {precision[i]:.2f}\")\n",
    "        print(f\"  Recall:    {recall[i]:.2f}\")\n",
    "        print(f\"  F1-score:  {f1[i]:.2f}\")\n",
    "        print()\n",
    "\n",
    "    print(\"Overall Accuracy:\", np.mean(y_true == y_pred))"
   ]
  },
  {
   "cell_type": "code",
   "execution_count": 10,
   "id": "a517c740-51ad-400d-8d0b-e41a4f48a3a8",
   "metadata": {},
   "outputs": [],
   "source": [
    "def plot_confusion_matrix(y_true, y_pred):\n",
    "    cm = confusion_matrix(y_true, y_pred)\n",
    "    plt.figure(figsize=(6,5))\n",
    "    sns.heatmap(cm, annot=True, fmt=\"d\", cmap=\"Blues\",\n",
    "                xticklabels=[\"Non-Diabetic\",\"Diabetic\"],\n",
    "                yticklabels=[\"Non-Diabetic\",\"Diabetic\"])\n",
    "    plt.xlabel(\"Predicted\")\n",
    "    plt.ylabel(\"Actual\")\n",
    "    plt.title(\"Confusion Matrix\")\n",
    "    plt.show()"
   ]
  },
  {
   "cell_type": "code",
   "execution_count": 11,
   "id": "0c298293-bb62-4fbe-9e0b-a5ac7cf4339a",
   "metadata": {},
   "outputs": [
    {
     "data": {
      "image/png": "[encoded data removed]",
      "text/plain": [
       "<Figure size 600x500 with 2 Axes>"
      ]
     },
     "metadata": {},
     "output_type": "display_data"
    },
    {
     "name": "stdout",
     "output_type": "stream",
     "text": [
      "Class 0:\n",
      "  Precision: 0.75\n",
      "  Recall:    0.80\n",
      "  F1-score:  0.77\n",
      "\n",
      "Class 1:\n",
      "  Precision: 0.58\n",
      "  Recall:    0.51\n",
      "  F1-score:  0.54\n",
      "\n",
      "Overall Accuracy: 0.6948051948051948\n"
     ]
    }
   ],
   "source": [
    "# Predictions with our scratch model\n",
    "y_pred = knn.predict(X_test)\n",
    "\n",
    "# Show confusion matrix\n",
    "plot_confusion_matrix(y_test, y_pred)\n",
    "\n",
    "# Print classification report\n",
    "classification_report(y_test, y_pred)"
   ]
  },
  {
   "cell_type": "markdown",
   "id": "9dec8d7d-14e2-4489-8a43-ef54df93dd40",
   "metadata": {},
   "source": [
    "# CONCLUSION:-\n",
    "#Hence,we implemented KNN algorithm on the PIMA Diabetes Dataset with an accuracy of ~70% along with Conusion Metrics.\n",
    "#Inshort,KNN is a type of Model which dosen't train the model ,actually it stores the datapoints and use it to find the K-Nearest Neighbour for the given test point and accodeing to the \"majority voting\",it determines the predictin."
   ]
  }
 ],
 "metadata": {
  "kernelspec": {
   "display_name": "Python 3 (ipykernel)",
   "language": "python",
   "name": "python3"
  },
  "language_info": {
   "codemirror_mode": {
    "name": "ipython",
    "version": 3
   },
   "file_extension": ".py",
   "mimetype": "text/x-python",
   "name": "python",
   "nbconvert_exporter": "python",
   "pygments_lexer": "ipython3",
   "version": "3.13.4"
  }
 },
 "nbformat": 4,
 "nbformat_minor": 5
}
